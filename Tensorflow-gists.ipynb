{
  "nbformat": 4,
  "nbformat_minor": 0,
  "metadata": {
    "colab": {
      "provenance": [],
      "authorship_tag": "ABX9TyNUKxJIaddkEXF4Ji7vtdY9",
      "include_colab_link": true
    },
    "kernelspec": {
      "name": "python3",
      "display_name": "Python 3"
    },
    "language_info": {
      "name": "python"
    }
  },
  "cells": [
    {
      "cell_type": "markdown",
      "metadata": {
        "id": "view-in-github",
        "colab_type": "text"
      },
      "source": [
        "<a href=\"https://colab.research.google.com/github/riush03/C-AlgorithmsPractice2022/blob/main/Tensorflow-gists.ipynb\" target=\"_parent\"><img src=\"https://colab.research.google.com/assets/colab-badge.svg\" alt=\"Open In Colab\"/></a>"
      ]
    },
    {
      "cell_type": "code",
      "execution_count": 2,
      "metadata": {
        "colab": {
          "base_uri": "https://localhost:8080/"
        },
        "id": "qJQAuI5KifjD",
        "outputId": "1e523ce0-01e6-408c-cc39-e03ebb6cf70e"
      },
      "outputs": [
        {
          "output_type": "stream",
          "name": "stdout",
          "text": [
            "Tensorflow version: 2.9.2\n"
          ]
        }
      ],
      "source": [
        "import tensorflow as tf\n",
        "print(\"Tensorflow version:\",tf.__version__)"
      ]
    },
    {
      "cell_type": "markdown",
      "source": [
        "**How to accelerate GPU**"
      ],
      "metadata": {
        "id": "yh74e6nMjBVl"
      }
    },
    {
      "cell_type": "code",
      "source": [
        "x = tf.random.uniform([3,3])\n",
        "print(\"Check GPU Availability:\")\n",
        "print(tf.config.list_physical_devices(\"GPU\"))\n",
        "print(\"Is the tensor on the gpu#:\")\n",
        "print(x.device.endswith('GPU:0'))"
      ],
      "metadata": {
        "colab": {
          "base_uri": "https://localhost:8080/"
        },
        "id": "ebgqF650i_F7",
        "outputId": "49d55cea-3f51-41f6-e1ef-00b2785f8608"
      },
      "execution_count": 5,
      "outputs": [
        {
          "output_type": "stream",
          "name": "stdout",
          "text": [
            "Check GPU Availability:\n",
            "[]\n",
            "Is the tensor on the gpu#:\n",
            "False\n"
          ]
        }
      ]
    },
    {
      "cell_type": "markdown",
      "source": [
        "**tf.data.Dataset**"
      ],
      "metadata": {
        "id": "sR2W7bCokWaM"
      }
    },
    {
      "cell_type": "code",
      "source": [
        "sample_csv_data = tf.data.Dataset.from_tensor_slices([1,2,3,4,5,6])\n",
        "\n",
        "import tempfile\n",
        "_,filename = tempfile.mks"
      ],
      "metadata": {
        "id": "aWgXs7_3kaJM"
      },
      "execution_count": null,
      "outputs": []
    }
  ]
}